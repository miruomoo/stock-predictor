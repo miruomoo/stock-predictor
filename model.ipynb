{
 "cells": [
  {
   "cell_type": "code",
   "execution_count": 25,
   "metadata": {},
   "outputs": [
    {
     "data": {
      "text/plain": [
       "Predictions\n",
       "0    957\n",
       "1    607\n",
       "Name: count, dtype: int64"
      ]
     },
     "execution_count": 25,
     "metadata": {},
     "output_type": "execute_result"
    }
   ],
   "source": [
    "import yfinance as yf\n",
    "btc = yf.Ticker(\"BTC-CAD\")\n",
    "btc = btc.history(period=\"max\")\n",
    "\n",
    "# Graph bitcoin price\n",
    "# btc.plot.line(y=\"Close\", use_index=True)\n",
    "del btc[\"Dividends\"]\n",
    "del btc[\"Stock Splits\"]\n",
    "btc[\"Tomorrow\"] = btc[\"Close\"].shift(-1)\n",
    "btc[\"Target\"] = (btc[\"Tomorrow\"]>btc[\"Close\"]).astype(int)\n",
    "\n",
    "# Display chart of bitcoin price\n",
    "btc\n",
    "\n",
    "from sklearn.ensemble import RandomForestClassifier\n",
    "\n",
    "model = RandomForestClassifier(n_estimators=100, min_samples_split=100, random_state=1)\n",
    "\n",
    "train = btc.iloc[:-100]\n",
    "test = btc.iloc[-100:]\n",
    "\n",
    "predictors = [\"Close\", \"Volume\", \"Open\", \"High\", \"Low\"]\n",
    "model.fit(train[predictors], train[\"Target\"])\n",
    "\n",
    "from sklearn.metrics import precision_score\n",
    "import pandas as pd\n",
    "\n",
    "# preds = pd.Series(preds, index=test.index)\n",
    "# precision_score(test[\"Target\"], preds)\n",
    "# combined = pd.concat([test[\"Target\"], preds], axis=1)\n",
    "\n",
    "# combined.plot()\n",
    "\n",
    "def predict(train, test, predictors, model):\n",
    "    model.fit(train[predictors], train[\"Target\"])\n",
    "    preds = model.predict(test[predictors])\n",
    "    preds = pd.Series(preds, index=test.index, name=\"Predictions\")\n",
    "    combined = pd.concat([test[\"Target\"], preds], axis=1)\n",
    "    return combined\n",
    "\n",
    "def backtest(data, model, predictors, start=2000, step=250):\n",
    "    all_predictions = []\n",
    "\n",
    "    for i in range(start, data.shape[0], step):\n",
    "        train = data.iloc[0:i].copy()\n",
    "        test = data.iloc[i:(i+step)].copy()\n",
    "        predictions = predict(train, test, predictors, model)\n",
    "        all_predictions.append(predictions)\n",
    "    return pd.concat(all_predictions)\n",
    "\n",
    "predictions = backtest(btc, model, predictors)\n",
    "\n",
    "predictions[\"Predictions\"].value_counts()"
   ]
  },
  {
   "cell_type": "code",
   "execution_count": null,
   "metadata": {},
   "outputs": [],
   "source": []
  }
 ],
 "metadata": {
  "kernelspec": {
   "display_name": "Python 3",
   "language": "python",
   "name": "python3"
  },
  "language_info": {
   "codemirror_mode": {
    "name": "ipython",
    "version": 3
   },
   "file_extension": ".py",
   "mimetype": "text/x-python",
   "name": "python",
   "nbconvert_exporter": "python",
   "pygments_lexer": "ipython3",
   "version": "3.10.5"
  }
 },
 "nbformat": 4,
 "nbformat_minor": 2
}
